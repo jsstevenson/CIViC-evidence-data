{
 "cells": [
  {
   "cell_type": "code",
   "execution_count": 58,
   "id": "1359e391-a627-4fe1-9d77-97669729b866",
   "metadata": {
    "tags": []
   },
   "outputs": [],
   "source": [
    "import requests\n",
    "import pandas as pd"
   ]
  },
  {
   "cell_type": "code",
   "execution_count": 8,
   "id": "59476efd-5a17-4ba6-85b5-5a243844bc68",
   "metadata": {
    "tags": []
   },
   "outputs": [],
   "source": [
    "url = \"https://civicdb.org/api/graphql\""
   ]
  },
  {
   "cell_type": "code",
   "execution_count": 20,
   "id": "1c150ab6-90a6-47e9-ace0-00b3cfe264ec",
   "metadata": {
    "tags": []
   },
   "outputs": [],
   "source": [
    "body = \"\"\"\n",
    "query getAssertions($assertCursor: String) {\n",
    "\tassertions(after: $assertCursor) {\n",
    "    edges {\n",
    "      cursor\n",
    "      node {\n",
    "        molecularProfile {\n",
    "          evidenceItems {\n",
    "            edges {\n",
    "              node {\n",
    "                status\n",
    "                source {\n",
    "                  authorString\n",
    "                  citation\n",
    "                  fullJournalTitle\n",
    "                }\n",
    "              }\n",
    "            }\n",
    "          }\n",
    "        }\n",
    "      }\n",
    "    }\n",
    "  }\n",
    "}\n",
    "\"\"\""
   ]
  },
  {
   "cell_type": "code",
   "execution_count": 21,
   "id": "95fdc74e-cb3a-4492-8079-6d8ba023ce4f",
   "metadata": {
    "tags": []
   },
   "outputs": [],
   "source": [
    "response = requests.post(url=url, json={\"query\": body})"
   ]
  },
  {
   "cell_type": "code",
   "execution_count": 22,
   "id": "e0394e6f-c913-494a-bfff-614344eb1879",
   "metadata": {
    "tags": []
   },
   "outputs": [
    {
     "data": {
      "text/plain": [
       "50"
      ]
     },
     "execution_count": 22,
     "metadata": {},
     "output_type": "execute_result"
    }
   ],
   "source": [
    "len(response.json()[\"data\"][\"assertions\"][\"edges\"])"
   ]
  },
  {
   "cell_type": "code",
   "execution_count": 24,
   "id": "9ecbc252-0b39-4def-87b0-d3f0855767d4",
   "metadata": {
    "tags": []
   },
   "outputs": [
    {
     "data": {
      "text/plain": [
       "{'molecularProfile': {'evidenceItems': {'edges': [{'node': {'status': 'ACCEPTED',\n",
       "      'source': {'authorString': 'G Smith, R Bounds, H Wolf, R J C Steele, F A Carey, C R Wolf',\n",
       "       'citation': 'Smith et al., 2010, Br. J. Cancer',\n",
       "       'fullJournalTitle': 'British journal of cancer'}}}]}}}"
      ]
     },
     "execution_count": 24,
     "metadata": {},
     "output_type": "execute_result"
    }
   ],
   "source": [
    "response.json()[\"data\"][\"assertions\"]['edges'][-1]['node']"
   ]
  },
  {
   "cell_type": "code",
   "execution_count": 44,
   "id": "34e430d8-3dd5-45cd-9bd5-42da65d4eec2",
   "metadata": {
    "tags": []
   },
   "outputs": [
    {
     "name": "stdout",
     "output_type": "stream",
     "text": [
      "56\n"
     ]
    }
   ],
   "source": [
    "profiles = []\n",
    "\n",
    "def get_all_assertions():\n",
    "    variables = {\"assertCursor\": \"\"}\n",
    "    while True:\n",
    "        response = requests.post(url=url, json={\"query\": body, \"variables\": variables})\n",
    "        response_assertions = response.json()[\"data\"][\"assertions\"][\"edges\"]\n",
    "        if len(response_assertions) == 0:\n",
    "            break\n",
    "        for assertion in response_assertions:\n",
    "            profiles.append(assertion[\"node\"][\"molecularProfile\"])\n",
    "        variables[\"assertCursor\"] = response_assertions[-1][\"cursor\"]\n",
    "\n",
    "        \n",
    "get_all_assertions()"
   ]
  },
  {
   "cell_type": "code",
   "execution_count": 78,
   "id": "9ee8463f-9264-4619-b188-706c2ef7a99d",
   "metadata": {
    "tags": []
   },
   "outputs": [],
   "source": [
    "def get_evidence():\n",
    "    query = \"\"\"\n",
    "    query getEv($cursor:String) {\n",
    "      evidenceItems(after:$cursor) {\n",
    "        edges {\n",
    "          cursor\n",
    "          node {\n",
    "            id\n",
    "            status\n",
    "            assertions {\n",
    "              id\n",
    "            }\n",
    "            evidenceDirection\n",
    "            evidenceRating\n",
    "            evidenceLevel\n",
    "            evidenceType\n",
    "            source {\n",
    "              authorString\n",
    "              sourceUrl\n",
    "              sourceType\n",
    "              title\n",
    "              pmcId\n",
    "              journal\n",
    "            }\n",
    "          }\n",
    "        }\n",
    "      }\n",
    "    }\n",
    "    \"\"\"\n",
    "    variables = {\"cursor\": \"\"}\n",
    "    ev_items = []\n",
    "    while True:\n",
    "        response = requests.post(url=url, json={\"query\": query, \"variables\": variables})\n",
    "        response_items = response.json()[\"data\"][\"evidenceItems\"][\"edges\"]\n",
    "        if len(response_items) == 0:\n",
    "            break\n",
    "        for item in response_items:\n",
    "            ev_items.append(item[\"node\"])\n",
    "        variables[\"cursor\"] = response_items[-1][\"cursor\"]\n",
    "    return ev_items\n",
    "ev_items = get_evidence()"
   ]
  },
  {
   "cell_type": "code",
   "execution_count": 115,
   "id": "709aa942-dae6-410e-a48e-8255c869d85a",
   "metadata": {
    "tags": []
   },
   "outputs": [],
   "source": [
    "ev_items_transformed = [\n",
    "    [e['id'], e['status'], [a['id'] for a in e['assertions']], \n",
    "     e['evidenceDirection'], e['evidenceRating'], e['evidenceLevel'], e['evidenceType'],\n",
    "     e['source']['authorString'], e['source']['sourceUrl'], \n",
    "     e['source']['sourceType'], e['source']['title'], e['source']['pmcId'], e['source']['journal']]\n",
    "    for e in ev_items\n",
    "]\n",
    "ev_items_df = pd.DataFrame(\n",
    "    ev_items_transformed,\n",
    "    columns=[\n",
    "        'id', 'status', 'assertion_ids', 'ev_direction', 'ev_rating', 'ev_level', 'ev_type',\n",
    "        'authors', 'url', 'type', 'title', 'pmc_id', 'journal'\n",
    "    ]\n",
    ")"
   ]
  },
  {
   "cell_type": "code",
   "execution_count": 116,
   "id": "7b39e4a3-51be-4a1d-9ae5-1fbb938871ca",
   "metadata": {
    "tags": []
   },
   "outputs": [
    {
     "data": {
      "text/plain": [
       "saudi j biol sci                    1\n",
       "oncogenesis                         1\n",
       "ann otol rhinol laryngol            1\n",
       "amino acids                         1\n",
       "cell physiol biochem                1\n",
       "                                   ..\n",
       "appl immunohistochem mol morphol    1\n",
       "genet couns                         1\n",
       "ann med                             1\n",
       "surg neurol                         1\n",
       "south asian j cancer                1\n",
       "Name: journal_cleaned, Length: 212, dtype: int64"
      ]
     },
     "execution_count": 116,
     "metadata": {},
     "output_type": "execute_result"
    }
   ],
   "source": [
    "ev_items_df[\"journal_cleaned\"] = ev_items_df[\"journal\"].str.lower().apply(lambda s: s.replace(\".\", \"\"))\n",
    "ct = ev_items_df[\"journal_cleaned\"].value_counts()\n",
    "ct[ct < 2]"
   ]
  },
  {
   "cell_type": "code",
   "execution_count": 118,
   "id": "8093b1af-2bc3-428d-8c04-94dde6815023",
   "metadata": {
    "tags": []
   },
   "outputs": [],
   "source": [
    "ev_items_df.to_csv(\"civic_evidence_data.csv\")"
   ]
  },
  {
   "cell_type": "code",
   "execution_count": null,
   "id": "65d062d6-aff2-49e5-a254-1f360b74ede4",
   "metadata": {
    "tags": []
   },
   "outputs": [],
   "source": []
  },
  {
   "cell_type": "code",
   "execution_count": null,
   "id": "82189307-9a17-4229-a3a9-ac96993adeb7",
   "metadata": {},
   "outputs": [],
   "source": []
  }
 ],
 "metadata": {
  "kernelspec": {
   "display_name": "20230227",
   "language": "python",
   "name": "20230227"
  },
  "language_info": {
   "codemirror_mode": {
    "name": "ipython",
    "version": 3
   },
   "file_extension": ".py",
   "mimetype": "text/x-python",
   "name": "python",
   "nbconvert_exporter": "python",
   "pygments_lexer": "ipython3",
   "version": "3.11.0"
  }
 },
 "nbformat": 4,
 "nbformat_minor": 5
}
